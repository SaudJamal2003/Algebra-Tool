{
 "cells": [
  {
   "cell_type": "code",
   "execution_count": 5,
   "metadata": {},
   "outputs": [],
   "source": [
    "# %pip install python-dotenv\n",
    "# %pip install openai\n",
    "# %pip install \"pinecone-client[grpc]\"\n",
    "# %pip install -q -U google-generativeai"
   ]
  },
  {
   "cell_type": "code",
   "execution_count": 1,
   "metadata": {},
   "outputs": [
    {
     "name": "stderr",
     "output_type": "stream",
     "text": [
      "C:\\Users\\saad2\\AppData\\Local\\Packages\\PythonSoftwareFoundation.Python.3.12_qbz5n2kfra8p0\\LocalCache\\local-packages\\Python312\\site-packages\\pinecone\\data\\index.py:1: TqdmWarning: IProgress not found. Please update jupyter and ipywidgets. See https://ipywidgets.readthedocs.io/en/stable/user_install.html\n",
      "  from tqdm.autonotebook import tqdm\n"
     ]
    }
   ],
   "source": [
    "from dotenv import load_dotenv\n",
    "load_dotenv()\n",
    "import os\n",
    "from pinecone import Pinecone, ServerlessSpec"
   ]
  },
  {
   "cell_type": "code",
   "execution_count": 12,
   "metadata": {},
   "outputs": [],
   "source": [
    "pc = Pinecone(api_key=os.getenv(\"PINECONE_KEY\"))"
   ]
  },
  {
   "cell_type": "code",
   "execution_count": 13,
   "metadata": {},
   "outputs": [],
   "source": [
    "pc.create_index(\n",
    "    name=\"rag\",\n",
    "    dimension=768,\n",
    "    metric=\"cosine\",\n",
    "    spec=ServerlessSpec(\n",
    "        cloud=\"aws\",\n",
    "        region=\"us-east-1\"\n",
    "    )\n",
    ")"
   ]
  },
  {
   "cell_type": "code",
   "execution_count": 14,
   "metadata": {},
   "outputs": [
    {
     "data": {
      "text/plain": [
       "[{'professor': 'Dr. Alice Johnson',\n",
       "  'subject': 'Calculus',\n",
       "  'stars': 5,\n",
       "  'review': 'Dr. Johnson explains concepts very clearly and makes complex topics easy to understand.'},\n",
       " {'professor': 'Dr. Michael Smith',\n",
       "  'subject': 'Linear Algebra',\n",
       "  'stars': 4,\n",
       "  'review': 'Great professor, but sometimes moves too fast through the material.'},\n",
       " {'professor': 'Dr. Emily Davis',\n",
       "  'subject': 'Statistics',\n",
       "  'stars': 3,\n",
       "  'review': 'Lectures are okay, but the exams are much harder than the examples in class.'},\n",
       " {'professor': 'Dr. Robert Brown',\n",
       "  'subject': 'Differential Equations',\n",
       "  'stars': 2,\n",
       "  'review': 'Dr. Brown is knowledgeable, but his teaching style is hard to follow.'},\n",
       " {'professor': 'Dr. Linda White',\n",
       "  'subject': 'Discrete Mathematics',\n",
       "  'stars': 5,\n",
       "  'review': 'Excellent professor! Makes the class very engaging and fun.'},\n",
       " {'professor': 'Dr. William Taylor',\n",
       "  'subject': 'Abstract Algebra',\n",
       "  'stars': 3,\n",
       "  'review': 'The course content is challenging, but Dr. Taylor is helpful during office hours.'},\n",
       " {'professor': 'Dr. Patricia Moore',\n",
       "  'subject': 'Topology',\n",
       "  'stars': 4,\n",
       "  'review': 'Good professor, but sometimes her lectures can be a bit dry.'},\n",
       " {'professor': 'Dr. Charles Anderson',\n",
       "  'subject': 'Number Theory',\n",
       "  'stars': 5,\n",
       "  'review': 'Dr. Anderson is passionate about the subject and makes every lecture interesting.'},\n",
       " {'professor': 'Dr. Jennifer Thomas',\n",
       "  'subject': 'Complex Analysis',\n",
       "  'stars': 3,\n",
       "  'review': 'Decent professor, but the grading is harsh and the homework is tough.'},\n",
       " {'professor': 'Dr. Christopher Jackson',\n",
       "  'subject': 'Real Analysis',\n",
       "  'stars': 2,\n",
       "  'review': \"Dr. Jackson's lectures are confusing, and it's hard to keep up with the pace.\"},\n",
       " {'professor': 'Dr. Elizabeth Lee',\n",
       "  'subject': 'Probability Theory',\n",
       "  'stars': 5,\n",
       "  'review': 'Amazing professor! She has a great way of making difficult concepts easy to grasp.'},\n",
       " {'professor': 'Dr. Richard Martinez',\n",
       "  'subject': 'Set Theory',\n",
       "  'stars': 4,\n",
       "  'review': 'Dr. Martinez is thorough and patient, but the material is quite challenging.'},\n",
       " {'professor': 'Dr. Maria Garcia',\n",
       "  'subject': 'Mathematical Logic',\n",
       "  'stars': 3,\n",
       "  'review': 'The course is interesting, but Dr. Garcia could be more approachable.'},\n",
       " {'professor': 'Dr. Thomas Wilson',\n",
       "  'subject': 'Graph Theory',\n",
       "  'stars': 4,\n",
       "  'review': 'Great professor with a lot of knowledge, but the exams are very tough.'},\n",
       " {'professor': 'Dr. Susan Martinez',\n",
       "  'subject': 'Combinatorics',\n",
       "  'stars': 5,\n",
       "  'review': 'Dr. Martinez is an excellent teacher and makes learning fun.'},\n",
       " {'professor': 'Dr. James Harris',\n",
       "  'subject': 'Partial Differential Equations',\n",
       "  'stars': 2,\n",
       "  'review': 'The lectures are hard to follow, and the homework is overwhelming.'},\n",
       " {'professor': 'Dr. Nancy Clark',\n",
       "  'subject': 'Functional Analysis',\n",
       "  'stars': 4,\n",
       "  'review': 'Dr. Clark is very clear in her explanations, but the subject matter is difficult.'},\n",
       " {'professor': 'Dr. Barbara Rodriguez',\n",
       "  'subject': 'Algebraic Geometry',\n",
       "  'stars': 3,\n",
       "  'review': \"Interesting course, but Dr. Rodriguez's teaching style is not very engaging.\"},\n",
       " {'professor': 'Dr. Daniel Lewis',\n",
       "  'subject': 'Game Theory',\n",
       "  'stars': 5,\n",
       "  'review': 'Dr. Lewis is an outstanding professor who makes every lecture exciting.'},\n",
       " {'professor': 'Dr. Karen Walker',\n",
       "  'subject': 'Mathematical Optimization',\n",
       "  'stars': 4,\n",
       "  'review': 'Very knowledgeable professor, but the course load is quite heavy.'}]"
      ]
     },
     "metadata": {},
     "output_type": "display_data"
    }
   ],
   "source": [
    "import json\n",
    "\n",
    "data = json.load(open(\"linear_equations_dataset.json\"))\n",
    "# display(data[\"reviews\"])"
   ]
  },
  {
   "cell_type": "code",
   "execution_count": 15,
   "metadata": {},
   "outputs": [],
   "source": [
    "import google.generativeai as genai\n",
    "\n",
    "genai.configure(api_key=os.environ[\"GEMINI_API_KEY\"])"
   ]
  },
  {
   "cell_type": "code",
   "execution_count": 19,
   "metadata": {},
   "outputs": [],
   "source": [
    "process_data = []\n",
    "\n",
    "# # Creating embeddings\n",
    "# # embedding capture the semantic representation of the text in numerical form\n",
    "# # man and uncle would be more semantically related than man and woman\n",
    "\n",
    "for question in data[\"questions\"]:\n",
    "    response = genai.embed_content(\n",
    "        model=\"models/text-embedding-004\",\n",
    "        content=questions[\"question\"]\n",
    "    )\n",
    "\n",
    "    embedding = response[\"embedding\"]\n",
    "\n",
    "    process_data.append({\n",
    "        \"values\": embedding,\n",
    "        \"id\": questions[\"id\"],\n",
    "        \"metadata\": {\n",
    "            \"question\": questions[\"question\"],\n",
    "            \"solution\": questions[\"solution\"],\n",
    "            \"topic\": questions[\"topic\"],\n",
    "            \"difficulty\": questions[\"difficulty\"],\n",
    "            \"steps\": questions[\"tags\"]\n",
    "        } \n",
    "    })\n"
   ]
  },
  {
   "cell_type": "code",
   "execution_count": 22,
   "metadata": {},
   "outputs": [
    {
     "data": {
      "text/plain": [
       "{'upserted_count': 20}"
      ]
     },
     "execution_count": 22,
     "metadata": {},
     "output_type": "execute_result"
    }
   ],
   "source": [
    "index = pc.Index(\"rag\")\n",
    "index.upsert(\n",
    "    vectors=process_data,\n",
    "    namespace=\"ns1\"\n",
    ")"
   ]
  },
  {
   "cell_type": "code",
   "execution_count": 23,
   "metadata": {},
   "outputs": [
    {
     "data": {
      "text/plain": [
       "{'dimension': 768,\n",
       " 'index_fullness': 0.0,\n",
       " 'namespaces': {'ns1': {'vector_count': 20}},\n",
       " 'total_vector_count': 20}"
      ]
     },
     "execution_count": 23,
     "metadata": {},
     "output_type": "execute_result"
    }
   ],
   "source": [
    "index.describe_index_stats()"
   ]
  }
 ],
 "metadata": {
  "kernelspec": {
   "display_name": "Python 3",
   "language": "python",
   "name": "python3"
  },
  "language_info": {
   "codemirror_mode": {
    "name": "ipython",
    "version": 3
   },
   "file_extension": ".py",
   "mimetype": "text/x-python",
   "name": "python",
   "nbconvert_exporter": "python",
   "pygments_lexer": "ipython3",
   "version": "3.12.5"
  }
 },
 "nbformat": 4,
 "nbformat_minor": 2
}
